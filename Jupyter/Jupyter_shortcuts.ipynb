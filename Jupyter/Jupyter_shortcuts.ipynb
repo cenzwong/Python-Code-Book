{
 "cells": [
  {
   "cell_type": "markdown",
   "id": "505647f5-1833-46e6-9c9f-1297315050c4",
   "metadata": {},
   "source": [
    "# Unleash the Potential of Jupyter"
   ]
  },
  {
   "cell_type": "markdown",
   "id": "c0cbd6bd-5dd5-4dc0-b916-34ab0710224a",
   "metadata": {},
   "source": [
    "#### Using latex"
   ]
  },
  {
   "cell_type": "markdown",
   "id": "e6927822-c8f2-4833-abf0-c8bf095b8a84",
   "metadata": {},
   "source": [
    "$P(A \\mid B) = \\frac{P(B \\mid A)P(A)}{P(B)}$"
   ]
  },
  {
   "cell_type": "code",
   "execution_count": null,
   "id": "319a9963-1ec5-49bf-9481-0fbe8206abf1",
   "metadata": {},
   "outputs": [],
   "source": []
  },
  {
   "cell_type": "markdown",
   "id": "b22ab3f9-57e8-4c47-8f2a-b239da793cb3",
   "metadata": {
    "tags": []
   },
   "source": [
    "## Common Shortcut"
   ]
  },
  {
   "cell_type": "markdown",
   "id": "6a76db9b-3a39-4460-ae30-172968577c9d",
   "metadata": {
    "tags": []
   },
   "source": [
    "In the Command Mode\n",
    "- Press ```a```/```b``` to append a cell above/below \n",
    "- Press ```M```/```Y``` to change a cell to Markdown/Code\n",
    "- Press ```dd``` to delete a cell \n",
    "- Press ```Shift + Enter``` to execute a cell \n",
    "- Press ```Enter```/```Esc``` to enter/exit edit cell mode\n",
    "- Press ```II``` to interrupt a cell\n",
    "- Press ```00``` to reset a kernel\n",
    "- Press ```Ctrl+Shift+C``` to activate Command plate (change dark mode)\n",
    "    - Split Cell\n",
    "    - Merge Cell"
   ]
  },
  {
   "cell_type": "code",
   "execution_count": null,
   "id": "a21b0a12-ca87-4fa1-850e-1f4851075149",
   "metadata": {},
   "outputs": [],
   "source": [
    "while True:\n",
    "    a = 0\n",
    "\n",
    "I am a long cell \n",
    "that needs to be split"
   ]
  },
  {
   "cell_type": "markdown",
   "id": "7d1d7a79-bf22-46a5-a197-350a01d89ec2",
   "metadata": {},
   "source": [
    "### Toggle Comment"
   ]
  },
  {
   "cell_type": "markdown",
   "id": "89f35ce0-5b5f-4982-b5d3-a477f5327735",
   "metadata": {
    "tags": []
   },
   "source": [
    "In the Edit Cell Mode \n",
    "- Press ```Ctrl+/``` to comment out a line"
   ]
  },
  {
   "cell_type": "code",
   "execution_count": 9,
   "id": "3f6f09a3-a152-424a-8942-81274270d9c2",
   "metadata": {},
   "outputs": [],
   "source": [
    "# This is a comment"
   ]
  },
  {
   "cell_type": "markdown",
   "id": "f6139a15-c5f7-4f8a-b560-8a7894fcce94",
   "metadata": {},
   "source": [
    "### Multi-line edit"
   ]
  },
  {
   "cell_type": "markdown",
   "id": "2c597099-da26-4bc0-8be0-ed7696cd5705",
   "metadata": {},
   "source": [
    "Press ```alt``` key and use curser drag"
   ]
  },
  {
   "cell_type": "code",
   "execution_count": 34,
   "id": "5d5d8777-16f6-4465-9bb4-5a08dc1bf4bb",
   "metadata": {},
   "outputs": [],
   "source": [
    "x = [\n",
    "    \"apple\"\n",
    "    \"banana\"\n",
    "    \"cat\"\n",
    "    \"dog\"\n",
    "    \"elephant\"\n",
    "]"
   ]
  },
  {
   "cell_type": "markdown",
   "id": "6fd251fb-c04d-4ef8-ac96-3f767c4e3cf9",
   "metadata": {},
   "source": [
    "### Method Documentation"
   ]
  },
  {
   "cell_type": "markdown",
   "id": "7f0b12a2-2896-4b09-9f51-23d6931f5a45",
   "metadata": {},
   "source": [
    "Press ```Shift+Tab``` to show Method Doc"
   ]
  },
  {
   "cell_type": "code",
   "execution_count": 8,
   "id": "0812dd9f-9e4d-489c-8a14-513d1aed6990",
   "metadata": {},
   "outputs": [],
   "source": [
    "import os\n",
    "os"
   ]
  },
  {
   "cell_type": "code",
   "execution_count": 35,
   "id": "b44f1ad3-997c-44e8-a36a-fc9bb2ab6e28",
   "metadata": {},
   "outputs": [
    {
     "data": {
      "text/plain": [
       "\u001b[0;31mType:\u001b[0m        module\n",
       "\u001b[0;31mString form:\u001b[0m <module 'os' from '/srv/conda/envs/notebook/lib/python3.7/os.py'>\n",
       "\u001b[0;31mFile:\u001b[0m        /srv/conda/envs/notebook/lib/python3.7/os.py\n",
       "\u001b[0;31mDocstring:\u001b[0m  \n",
       "OS routines for NT or Posix depending on what system we're on.\n",
       "\n",
       "This exports:\n",
       "  - all functions from posix or nt, e.g. unlink, stat, etc.\n",
       "  - os.path is either posixpath or ntpath\n",
       "  - os.name is either 'posix' or 'nt'\n",
       "  - os.curdir is a string representing the current directory (always '.')\n",
       "  - os.pardir is a string representing the parent directory (always '..')\n",
       "  - os.sep is the (or a most common) pathname separator ('/' or '\\\\')\n",
       "  - os.extsep is the extension separator (always '.')\n",
       "  - os.altsep is the alternate pathname separator (None or '/')\n",
       "  - os.pathsep is the component separator used in $PATH etc\n",
       "  - os.linesep is the line separator in text files ('\\r' or '\\n' or '\\r\\n')\n",
       "  - os.defpath is the default search path for executables\n",
       "  - os.devnull is the file path of the null device ('/dev/null', etc.)\n",
       "\n",
       "Programs that import and use 'os' stand a better chance of being\n",
       "portable between different platforms.  Of course, they must then\n",
       "only use functions that are defined by all platforms (e.g., unlink\n",
       "and opendir), and leave all pathname manipulation to os.path\n",
       "(e.g., split and join).\n"
      ]
     },
     "metadata": {},
     "output_type": "display_data"
    }
   ],
   "source": [
    "?os"
   ]
  },
  {
   "cell_type": "markdown",
   "id": "3ed8c491-0932-47e7-b4eb-fc074656e8c8",
   "metadata": {
    "tags": []
   },
   "source": [
    "## Magic Command"
   ]
  },
  {
   "cell_type": "code",
   "execution_count": 2,
   "id": "a6902731-f112-449c-9ac2-216d41421838",
   "metadata": {},
   "outputs": [
    {
     "data": {
      "application/json": {
       "cell": {
        "!": "OSMagics",
        "HTML": "Other",
        "SVG": "Other",
        "bash": "Other",
        "capture": "ExecutionMagics",
        "debug": "ExecutionMagics",
        "file": "Other",
        "html": "DisplayMagics",
        "javascript": "DisplayMagics",
        "js": "DisplayMagics",
        "latex": "DisplayMagics",
        "markdown": "DisplayMagics",
        "perl": "Other",
        "prun": "ExecutionMagics",
        "pypy": "Other",
        "python": "Other",
        "python2": "Other",
        "python3": "Other",
        "ruby": "Other",
        "script": "ScriptMagics",
        "sh": "Other",
        "svg": "DisplayMagics",
        "sx": "OSMagics",
        "system": "OSMagics",
        "time": "ExecutionMagics",
        "timeit": "ExecutionMagics",
        "writefile": "OSMagics"
       },
       "line": {
        "alias": "OSMagics",
        "alias_magic": "BasicMagics",
        "autoawait": "AsyncMagics",
        "autocall": "AutoMagics",
        "automagic": "AutoMagics",
        "autosave": "KernelMagics",
        "bookmark": "OSMagics",
        "cat": "Other",
        "cd": "OSMagics",
        "clear": "KernelMagics",
        "colors": "BasicMagics",
        "conda": "PackagingMagics",
        "config": "ConfigMagics",
        "connect_info": "KernelMagics",
        "cp": "Other",
        "debug": "ExecutionMagics",
        "dhist": "OSMagics",
        "dirs": "OSMagics",
        "doctest_mode": "BasicMagics",
        "ed": "Other",
        "edit": "KernelMagics",
        "env": "OSMagics",
        "gui": "BasicMagics",
        "hist": "Other",
        "history": "HistoryMagics",
        "killbgscripts": "ScriptMagics",
        "ldir": "Other",
        "less": "KernelMagics",
        "lf": "Other",
        "lk": "Other",
        "ll": "Other",
        "load": "CodeMagics",
        "load_ext": "ExtensionMagics",
        "loadpy": "CodeMagics",
        "logoff": "LoggingMagics",
        "logon": "LoggingMagics",
        "logstart": "LoggingMagics",
        "logstate": "LoggingMagics",
        "logstop": "LoggingMagics",
        "ls": "Other",
        "lsmagic": "BasicMagics",
        "lx": "Other",
        "macro": "ExecutionMagics",
        "magic": "BasicMagics",
        "man": "KernelMagics",
        "matplotlib": "PylabMagics",
        "mkdir": "Other",
        "more": "KernelMagics",
        "mv": "Other",
        "notebook": "BasicMagics",
        "page": "BasicMagics",
        "pastebin": "CodeMagics",
        "pdb": "ExecutionMagics",
        "pdef": "NamespaceMagics",
        "pdoc": "NamespaceMagics",
        "pfile": "NamespaceMagics",
        "pinfo": "NamespaceMagics",
        "pinfo2": "NamespaceMagics",
        "pip": "PackagingMagics",
        "popd": "OSMagics",
        "pprint": "BasicMagics",
        "precision": "BasicMagics",
        "prun": "ExecutionMagics",
        "psearch": "NamespaceMagics",
        "psource": "NamespaceMagics",
        "pushd": "OSMagics",
        "pwd": "OSMagics",
        "pycat": "OSMagics",
        "pylab": "PylabMagics",
        "qtconsole": "KernelMagics",
        "quickref": "BasicMagics",
        "recall": "HistoryMagics",
        "rehashx": "OSMagics",
        "reload_ext": "ExtensionMagics",
        "rep": "Other",
        "rerun": "HistoryMagics",
        "reset": "NamespaceMagics",
        "reset_selective": "NamespaceMagics",
        "rm": "Other",
        "rmdir": "Other",
        "run": "ExecutionMagics",
        "save": "CodeMagics",
        "sc": "OSMagics",
        "set_env": "OSMagics",
        "store": "StoreMagics",
        "sx": "OSMagics",
        "system": "OSMagics",
        "tb": "ExecutionMagics",
        "time": "ExecutionMagics",
        "timeit": "ExecutionMagics",
        "unalias": "OSMagics",
        "unload_ext": "ExtensionMagics",
        "who": "NamespaceMagics",
        "who_ls": "NamespaceMagics",
        "whos": "NamespaceMagics",
        "xdel": "NamespaceMagics",
        "xmode": "BasicMagics"
       }
      },
      "text/plain": [
       "Available line magics:\n",
       "%alias  %alias_magic  %autoawait  %autocall  %automagic  %autosave  %bookmark  %cat  %cd  %clear  %colors  %conda  %config  %connect_info  %cp  %debug  %dhist  %dirs  %doctest_mode  %ed  %edit  %env  %gui  %hist  %history  %killbgscripts  %ldir  %less  %lf  %lk  %ll  %load  %load_ext  %loadpy  %logoff  %logon  %logstart  %logstate  %logstop  %ls  %lsmagic  %lx  %macro  %magic  %man  %matplotlib  %mkdir  %more  %mv  %notebook  %page  %pastebin  %pdb  %pdef  %pdoc  %pfile  %pinfo  %pinfo2  %pip  %popd  %pprint  %precision  %prun  %psearch  %psource  %pushd  %pwd  %pycat  %pylab  %qtconsole  %quickref  %recall  %rehashx  %reload_ext  %rep  %rerun  %reset  %reset_selective  %rm  %rmdir  %run  %save  %sc  %set_env  %store  %sx  %system  %tb  %time  %timeit  %unalias  %unload_ext  %who  %who_ls  %whos  %xdel  %xmode\n",
       "\n",
       "Available cell magics:\n",
       "%%!  %%HTML  %%SVG  %%bash  %%capture  %%debug  %%file  %%html  %%javascript  %%js  %%latex  %%markdown  %%perl  %%prun  %%pypy  %%python  %%python2  %%python3  %%ruby  %%script  %%sh  %%svg  %%sx  %%system  %%time  %%timeit  %%writefile\n",
       "\n",
       "Automagic is ON, % prefix IS NOT needed for line magics."
      ]
     },
     "execution_count": 2,
     "metadata": {},
     "output_type": "execute_result"
    }
   ],
   "source": [
    "# list all magic commands\n",
    "%lsmagic"
   ]
  },
  {
   "cell_type": "code",
   "execution_count": 6,
   "id": "1ef10b61-3fd2-4d27-8fc8-2ba2585cf690",
   "metadata": {},
   "outputs": [
    {
     "name": "stdout",
     "output_type": "stream",
     "text": [
      "big.csv        jupyterlab-slides.pdf  markdown_python.md  Untitled.ipynb\n",
      "data\t       Lorenz.ipynb\t      notebooks\n",
      "jupyterlab.md  lorenz.py\t      TCGA_Data\n"
     ]
    }
   ],
   "source": [
    "!ls"
   ]
  },
  {
   "cell_type": "code",
   "execution_count": 7,
   "id": "0bfc70e3-07e6-409b-af45-356938eb1f7c",
   "metadata": {},
   "outputs": [
    {
     "name": "stdout",
     "output_type": "stream",
     "text": [
      "\u001b[0m\u001b[01;32mbig.csv\u001b[0m*       jupyterlab-slides.pdf  markdown_python.md  Untitled.ipynb\n",
      "\u001b[01;34mdata\u001b[0m/          Lorenz.ipynb           \u001b[01;34mnotebooks\u001b[0m/\n",
      "jupyterlab.md  lorenz.py              \u001b[01;34mTCGA_Data\u001b[0m/\n"
     ]
    }
   ],
   "source": [
    "%ls"
   ]
  },
  {
   "cell_type": "markdown",
   "id": "9d771ab7-d49a-4b78-83d4-312c5b0f6ded",
   "metadata": {},
   "source": [
    "#### Set Env Variable"
   ]
  },
  {
   "cell_type": "code",
   "execution_count": 8,
   "id": "bec44d0a-e85a-4619-b7e3-a780280ca0f7",
   "metadata": {},
   "outputs": [
    {
     "data": {
      "text/plain": [
       "'/home/jovyan'"
      ]
     },
     "execution_count": 8,
     "metadata": {},
     "output_type": "execute_result"
    }
   ],
   "source": [
    "%env HOME"
   ]
  },
  {
   "cell_type": "markdown",
   "id": "d329e958-c746-4e13-926c-5a5d420d50aa",
   "metadata": {},
   "source": [
    "#### Run a Python Script"
   ]
  },
  {
   "cell_type": "code",
   "execution_count": 10,
   "id": "ff488b48-2584-4868-890e-e434dc96ac22",
   "metadata": {},
   "outputs": [
    {
     "name": "stdout",
     "output_type": "stream",
     "text": [
      "Writing mypython.py\n"
     ]
    }
   ],
   "source": [
    "%%writefile mypython.py\n",
    "print(\"hello World\")"
   ]
  },
  {
   "cell_type": "code",
   "execution_count": 24,
   "id": "a7b6a0a2-1af3-4fa3-871a-d459c1f7a093",
   "metadata": {},
   "outputs": [
    {
     "data": {
      "text/plain": [
       "\u001b[0mprint\u001b[0m\u001b[0;34m(\u001b[0m\u001b[0;34m\"hello World\"\u001b[0m\u001b[0;34m)\u001b[0m\u001b[0;34m\u001b[0m\u001b[0;34m\u001b[0m\u001b[0m\n"
      ]
     },
     "metadata": {},
     "output_type": "display_data"
    }
   ],
   "source": [
    "%pycat mypython.py"
   ]
  },
  {
   "cell_type": "code",
   "execution_count": 26,
   "id": "37887dca-aa69-421c-9b5c-d7c76622751f",
   "metadata": {},
   "outputs": [
    {
     "name": "stdout",
     "output_type": "stream",
     "text": [
      "print(\"hello World\")\n"
     ]
    }
   ],
   "source": [
    "!cat mypython.py"
   ]
  },
  {
   "cell_type": "code",
   "execution_count": 12,
   "id": "56ededb4-3b26-42c6-a32e-86adf37ca553",
   "metadata": {},
   "outputs": [
    {
     "name": "stdout",
     "output_type": "stream",
     "text": [
      "hello World\n"
     ]
    }
   ],
   "source": [
    "%run mypython.py"
   ]
  },
  {
   "cell_type": "code",
   "execution_count": 15,
   "id": "97caf26e-a74b-42fe-9515-cbee6268350e",
   "metadata": {},
   "outputs": [
    {
     "name": "stdout",
     "output_type": "stream",
     "text": [
      "hello World\n"
     ]
    }
   ],
   "source": [
    "# %load mypython.py\n",
    "print(\"hello World\")\n"
   ]
  },
  {
   "cell_type": "markdown",
   "id": "2bf4255d-9459-4cc1-8eb3-22277ae5d36e",
   "metadata": {},
   "source": [
    "#### Pass variables between notebooks"
   ]
  },
  {
   "cell_type": "code",
   "execution_count": 18,
   "id": "0238e9df-6484-486f-9ce6-c3959196c279",
   "metadata": {},
   "outputs": [
    {
     "name": "stdout",
     "output_type": "stream",
     "text": [
      "Stored 'data' (str)\n"
     ]
    }
   ],
   "source": [
    "data = 'this is the string I want to pass to different notebook'\n",
    "%store data\n",
    "del data"
   ]
  },
  {
   "cell_type": "code",
   "execution_count": 19,
   "id": "1251d99a-4263-47c6-8f1e-561d54ee65b3",
   "metadata": {},
   "outputs": [
    {
     "ename": "NameError",
     "evalue": "name 'data' is not defined",
     "output_type": "error",
     "traceback": [
      "\u001b[0;31m---------------------------------------------------------------------------\u001b[0m",
      "\u001b[0;31mNameError\u001b[0m                                 Traceback (most recent call last)",
      "\u001b[0;32m<ipython-input-19-c5d84736ba45>\u001b[0m in \u001b[0;36m<module>\u001b[0;34m\u001b[0m\n\u001b[0;32m----> 1\u001b[0;31m \u001b[0mdata\u001b[0m\u001b[0;34m\u001b[0m\u001b[0;34m\u001b[0m\u001b[0m\n\u001b[0m",
      "\u001b[0;31mNameError\u001b[0m: name 'data' is not defined"
     ]
    }
   ],
   "source": [
    "data"
   ]
  },
  {
   "cell_type": "code",
   "execution_count": 20,
   "id": "7f3dee91-0949-4e2e-91ec-265c3db825e6",
   "metadata": {},
   "outputs": [
    {
     "name": "stdout",
     "output_type": "stream",
     "text": [
      "this is the string I want to pass to different notebook\n"
     ]
    }
   ],
   "source": [
    "%store -r data\n",
    "print(data)"
   ]
  },
  {
   "cell_type": "markdown",
   "id": "5e6cda5f-16f1-4296-87c0-39568677171d",
   "metadata": {},
   "source": [
    "## Spacetime Odyssy"
   ]
  },
  {
   "cell_type": "code",
   "execution_count": 30,
   "id": "a9d1a36c-db32-48d0-87b9-54d3464705df",
   "metadata": {},
   "outputs": [
    {
     "name": "stdout",
     "output_type": "stream",
     "text": [
      "hello\n",
      "hello\n",
      "hello\n",
      "hello\n",
      "hello\n",
      "hello\n",
      "hello\n",
      "55.8 µs ± 19.1 µs per loop (mean ± std. dev. of 7 runs, 1 loop each)\n"
     ]
    }
   ],
   "source": [
    "%timeit -n 1 print(\"hello\")"
   ]
  },
  {
   "cell_type": "markdown",
   "id": "dddc961c-eb25-4c6a-a6ce-143844ae799b",
   "metadata": {
    "jp-MarkdownHeadingCollapsed": true,
    "tags": []
   },
   "source": [
    "# Advance Command"
   ]
  },
  {
   "cell_type": "code",
   "execution_count": 3,
   "id": "f2188e93-6ff0-4b26-aeae-7e15437b4412",
   "metadata": {},
   "outputs": [],
   "source": [
    "# https://miro.medium.com/max/550/1*B5y5SnGRC_SLcTTudc0IvA.png"
   ]
  },
  {
   "cell_type": "code",
   "execution_count": null,
   "id": "2380f8b5-6fc4-4617-9a9e-0315f196eb35",
   "metadata": {},
   "outputs": [],
   "source": []
  }
 ],
 "metadata": {
  "kernelspec": {
   "display_name": "Python 3",
   "language": "python",
   "name": "python3"
  },
  "language_info": {
   "codemirror_mode": {
    "name": "ipython",
    "version": 3
   },
   "file_extension": ".py",
   "mimetype": "text/x-python",
   "name": "python",
   "nbconvert_exporter": "python",
   "pygments_lexer": "ipython3",
   "version": "3.7.8"
  }
 },
 "nbformat": 4,
 "nbformat_minor": 5
}
