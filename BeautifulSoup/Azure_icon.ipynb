{
  "nbformat": 4,
  "nbformat_minor": 0,
  "metadata": {
    "colab": {
      "name": "Azure_icon.ipynb",
      "provenance": []
    },
    "kernelspec": {
      "name": "python3",
      "display_name": "Python 3"
    },
    "language_info": {
      "name": "python"
    }
  },
  "cells": [
    {
      "cell_type": "code",
      "execution_count": null,
      "metadata": {
        "id": "M8uTMaqWpN4m"
      },
      "outputs": [],
      "source": [
        "base_url = \"https://azurecomcdn.azureedge.net/cvt-d79d8f8bf21b702d5043e671743dfd9cede711e9b9c6288e0e6cb9b0b9c28d2c/svg/\""
      ]
    },
    {
      "cell_type": "code",
      "source": [
        "from bs4 import BeautifulSoup\n",
        "import requests\n",
        "\n",
        "r = requests.get(\"https://azure.microsoft.com/en-us/services/\")\n",
        "\n",
        "soup = BeautifulSoup(r.content, 'html.parser')\n",
        "# soup.prettify() \n",
        "\n",
        "\n",
        "# "
      ],
      "metadata": {
        "id": "n9UuFOrQpabc"
      },
      "execution_count": 5,
      "outputs": []
    },
    {
      "cell_type": "code",
      "source": [
        "list_all_img = soup.find_all(\"img\")"
      ],
      "metadata": {
        "id": "DsrkxgPtqBN9"
      },
      "execution_count": 11,
      "outputs": []
    },
    {
      "cell_type": "code",
      "source": [
        "type(list_all_img[0])"
      ],
      "metadata": {
        "colab": {
          "base_uri": "https://localhost:8080/"
        },
        "id": "DMwumNbirVbx",
        "outputId": "8096e054-71a9-4abc-9a4c-147a0a6743f5"
      },
      "execution_count": 21,
      "outputs": [
        {
          "output_type": "execute_result",
          "data": {
            "text/plain": [
              "bs4.element.Tag"
            ]
          },
          "metadata": {},
          "execution_count": 21
        }
      ]
    },
    {
      "cell_type": "code",
      "source": [
        "list_all_img[0].get(\"src\")"
      ],
      "metadata": {
        "colab": {
          "base_uri": "https://localhost:8080/",
          "height": 35
        },
        "id": "gLKYkZhproXL",
        "outputId": "7b6153d0-efa3-4e12-84d6-581ecb780ff7"
      },
      "execution_count": 22,
      "outputs": [
        {
          "output_type": "execute_result",
          "data": {
            "application/vnd.google.colaboratory.intrinsic+json": {
              "type": "string"
            },
            "text/plain": [
              "'//azurecomcdn.azureedge.net/cvt-d79d8f8bf21b702d5043e671743dfd9cede711e9b9c6288e0e6cb9b0b9c28d2c/svg/virtual-machines.svg'"
            ]
          },
          "metadata": {},
          "execution_count": 22
        }
      ]
    },
    {
      "cell_type": "code",
      "source": [
        "map()"
      ],
      "metadata": {
        "colab": {
          "base_uri": "https://localhost:8080/"
        },
        "id": "DqjNBDEPq30k",
        "outputId": "7fd7bb76-f4e8-4ad9-c018-d5acdaefb0ed"
      },
      "execution_count": 20,
      "outputs": [
        {
          "output_type": "execute_result",
          "data": {
            "text/plain": [
              "<img alt=\"\" class=\"icon icon-size2\" loading=\"lazy\" src=\"//azurecomcdn.azureedge.net/cvt-d79d8f8bf21b702d5043e671743dfd9cede711e9b9c6288e0e6cb9b0b9c28d2c/svg/virtual-machines.svg\"/>"
            ]
          },
          "metadata": {},
          "execution_count": 20
        }
      ]
    },
    {
      "cell_type": "code",
      "source": [
        "download_urls = list(set((map(lambda bs4_tag:\"https:\" + bs4_tag.get(\"src\"), list_all_img))) )"
      ],
      "metadata": {
        "id": "jnBQQo6VsJ6E"
      },
      "execution_count": 41,
      "outputs": []
    },
    {
      "cell_type": "code",
      "source": [
        "download_urls[0]"
      ],
      "metadata": {
        "colab": {
          "base_uri": "https://localhost:8080/",
          "height": 35
        },
        "id": "gUc2XgOut7O4",
        "outputId": "b295977d-db49-4ef4-e191-16c91acf7720"
      },
      "execution_count": 42,
      "outputs": [
        {
          "output_type": "execute_result",
          "data": {
            "application/vnd.google.colaboratory.intrinsic+json": {
              "type": "string"
            },
            "text/plain": [
              "'https://azurecomcdn.azureedge.net/cvt-d79d8f8bf21b702d5043e671743dfd9cede711e9b9c6288e0e6cb9b0b9c28d2c/svg/azure-repos.svg'"
            ]
          },
          "metadata": {},
          "execution_count": 42
        }
      ]
    },
    {
      "cell_type": "code",
      "source": [
        "download_urls[0].split(\"/\")[-1]"
      ],
      "metadata": {
        "colab": {
          "base_uri": "https://localhost:8080/",
          "height": 35
        },
        "id": "pKUYhfLYuovl",
        "outputId": "f791d9f8-f000-4b3d-da0b-abbfcc4151ba"
      },
      "execution_count": 45,
      "outputs": [
        {
          "output_type": "execute_result",
          "data": {
            "application/vnd.google.colaboratory.intrinsic+json": {
              "type": "string"
            },
            "text/plain": [
              "'azure-repos.svg'"
            ]
          },
          "metadata": {},
          "execution_count": 45
        }
      ]
    },
    {
      "cell_type": "code",
      "source": [
        "def download_files_from_url(URL):\n",
        "  file_name = URL.split(\"/\")[-1]\n",
        "  r = requests.get(URL)\n",
        "  open(file_name, 'wb').write(r.content)"
      ],
      "metadata": {
        "id": "gFqWoKAfugwS"
      },
      "execution_count": 55,
      "outputs": []
    },
    {
      "cell_type": "code",
      "source": [
        "for URL in download_urls:\n",
        "  download_files_from_url(URL)"
      ],
      "metadata": {
        "id": "HXv0c1sQsfWx"
      },
      "execution_count": 59,
      "outputs": []
    },
    {
      "cell_type": "markdown",
      "source": [
        "# Zip all the files and download"
      ],
      "metadata": {
        "id": "iJ30PPDIvANn"
      }
    },
    {
      "cell_type": "code",
      "source": [
        "from zipfile import ZipFile"
      ],
      "metadata": {
        "id": "7lhGcloiv29N"
      },
      "execution_count": 49,
      "outputs": []
    },
    {
      "cell_type": "code",
      "source": [
        "file_names = list(set(map(lambda URL:URL.split(\"/\")[-1], download_urls)))"
      ],
      "metadata": {
        "id": "CNaFPHOCwLYM"
      },
      "execution_count": 53,
      "outputs": []
    },
    {
      "cell_type": "code",
      "source": [
        "def zip_files(files):\n",
        "  zipObj = ZipFile(\"Azure_icon.zip\", 'w')\n",
        "  for myfile in files:\n",
        "    zipObj.write(myfile)\n",
        "  zipObj.close()\n"
      ],
      "metadata": {
        "id": "j8VqTH6Nvn5t"
      },
      "execution_count": 63,
      "outputs": []
    },
    {
      "cell_type": "code",
      "source": [
        "zip_files(file_names)"
      ],
      "metadata": {
        "id": "DU2j6-cewWlD"
      },
      "execution_count": 64,
      "outputs": []
    },
    {
      "cell_type": "code",
      "source": [
        ""
      ],
      "metadata": {
        "id": "0Us-RvHfxQdN"
      },
      "execution_count": null,
      "outputs": []
    }
  ]
}