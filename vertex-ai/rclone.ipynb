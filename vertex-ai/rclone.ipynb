{
 "cells": [
  {
   "cell_type": "markdown",
   "id": "62f52876-9621-4f49-b089-8d41ba407b99",
   "metadata": {},
   "source": [
    "# Reading file using rclone"
   ]
  },
  {
   "cell_type": "code",
   "execution_count": 1,
   "id": "01d39cbe-f0a7-472c-940c-d927a30f7d23",
   "metadata": {},
   "outputs": [
    {
     "name": "stdout",
     "output_type": "stream",
     "text": [
      "  % Total    % Received % Xferd  Average Speed   Time    Time     Time  Current\n",
      "                                 Dload  Upload   Total   Spent    Left  Speed\n",
      "100  4497  100  4497    0     0   4018      0  0:00:01  0:00:01 --:--:--  4018\n",
      "Archive:  rclone-current-linux-amd64.zip\n",
      "   creating: tmp_unzip_dir_for_rclone/rclone-v1.57.0-linux-amd64/\n",
      "  inflating: tmp_unzip_dir_for_rclone/rclone-v1.57.0-linux-amd64/README.txt  [text]  \n",
      "  inflating: tmp_unzip_dir_for_rclone/rclone-v1.57.0-linux-amd64/git-log.txt  [text]  \n",
      "  inflating: tmp_unzip_dir_for_rclone/rclone-v1.57.0-linux-amd64/rclone.1  [text]  \n",
      "  inflating: tmp_unzip_dir_for_rclone/rclone-v1.57.0-linux-amd64/README.html  [text]  \n",
      "  inflating: tmp_unzip_dir_for_rclone/rclone-v1.57.0-linux-amd64/rclone  [binary]\n",
      "Purging old database entries in /usr/share/man...\n",
      "Processing manual pages under /usr/share/man...\n",
      "Purging old database entries in /usr/share/man/zh_CN...\n",
      "Processing manual pages under /usr/share/man/zh_CN...\n",
      "Purging old database entries in /usr/share/man/tr...\n",
      "Processing manual pages under /usr/share/man/tr...\n",
      "Purging old database entries in /usr/share/man/ja...\n",
      "Processing manual pages under /usr/share/man/ja...\n",
      "Purging old database entries in /usr/share/man/hu...\n",
      "Processing manual pages under /usr/share/man/hu...\n",
      "Purging old database entries in /usr/share/man/zh_TW...\n",
      "Processing manual pages under /usr/share/man/zh_TW...\n",
      "Purging old database entries in /usr/share/man/sr...\n",
      "Processing manual pages under /usr/share/man/sr...\n",
      "Purging old database entries in /usr/share/man/it...\n",
      "Processing manual pages under /usr/share/man/it...\n",
      "Purging old database entries in /usr/share/man/fi...\n",
      "Processing manual pages under /usr/share/man/fi...\n",
      "Purging old database entries in /usr/share/man/fr...\n",
      "Processing manual pages under /usr/share/man/fr...\n",
      "Purging old database entries in /usr/share/man/ko...\n",
      "Processing manual pages under /usr/share/man/ko...\n",
      "Purging old database entries in /usr/share/man/da...\n",
      "Processing manual pages under /usr/share/man/da...\n",
      "Purging old database entries in /usr/share/man/nl...\n",
      "Processing manual pages under /usr/share/man/nl...\n",
      "Purging old database entries in /usr/share/man/cs...\n",
      "Processing manual pages under /usr/share/man/cs...\n",
      "Purging old database entries in /usr/share/man/ru...\n",
      "Processing manual pages under /usr/share/man/ru...\n",
      "Purging old database entries in /usr/share/man/sl...\n",
      "Processing manual pages under /usr/share/man/sl...\n",
      "Purging old database entries in /usr/share/man/es...\n",
      "Processing manual pages under /usr/share/man/es...\n",
      "Purging old database entries in /usr/share/man/pl...\n",
      "Processing manual pages under /usr/share/man/pl...\n",
      "Purging old database entries in /usr/share/man/de...\n",
      "Processing manual pages under /usr/share/man/de...\n",
      "Purging old database entries in /usr/share/man/pt...\n",
      "Processing manual pages under /usr/share/man/pt...\n",
      "Purging old database entries in /usr/share/man/sv...\n",
      "Processing manual pages under /usr/share/man/sv...\n",
      "Purging old database entries in /usr/share/man/id...\n",
      "Processing manual pages under /usr/share/man/id...\n",
      "Purging old database entries in /usr/share/man/pt_BR...\n",
      "Processing manual pages under /usr/share/man/pt_BR...\n",
      "Processing manual pages under /usr/local/man...\n",
      "Updating index cache for path `/usr/local/man/man1'. Wait...done.\n",
      "Checking for stray cats under /usr/local/man...\n",
      "Checking for stray cats under /var/cache/man/oldlocal...\n",
      "1 man subdirectory contained newer manual pages.\n",
      "1 manual page was added.\n",
      "0 stray cats were added.\n",
      "1 old database entry was purged.\n",
      "\n",
      "rclone v1.57.0 has successfully installed.\n",
      "Now run \"rclone config\" for setup. Check https://rclone.org/docs/ for more details.\n",
      "\n"
     ]
    }
   ],
   "source": [
    "!curl https://rclone.org/install.sh | sudo bash"
   ]
  },
  {
   "cell_type": "code",
   "execution_count": 4,
   "id": "ef142645-d13a-421e-9cc0-0014edfe865e",
   "metadata": {},
   "outputs": [
    {
     "name": "stdout",
     "output_type": "stream",
     "text": [
      "<5>NOTICE: Config file \"/home/jupyter/.config/rclone/rclone.conf\" not found - using defaults\n",
      "{\n",
      "\t\"State\": \"*oauth-islocal,,,\",\n",
      "\t\"Option\": {\n",
      "\t\t\"Name\": \"config_is_local\",\n",
      "\t\t\"Help\": \"Use auto config?\\n * Say Y if not sure\\n * Say N if you are working on a remote or headless machine\\n\",\n",
      "\t\t\"Provider\": \"\",\n",
      "\t\t\"Default\": true,\n",
      "\t\t\"Value\": null,\n",
      "\t\t\"Examples\": [\n",
      "\t\t\t{\n",
      "\t\t\t\t\"Value\": \"true\",\n",
      "\t\t\t\t\"Help\": \"Yes\",\n",
      "\t\t\t\t\"Provider\": \"\"\n",
      "\t\t\t},\n",
      "\t\t\t{\n",
      "\t\t\t\t\"Value\": \"false\",\n",
      "\t\t\t\t\"Help\": \"No\",\n",
      "\t\t\t\t\"Provider\": \"\"\n",
      "\t\t\t}\n",
      "\t\t],\n",
      "\t\t\"ShortOpt\": \"\",\n",
      "\t\t\"Hide\": 0,\n",
      "\t\t\"Required\": false,\n",
      "\t\t\"IsPassword\": false,\n",
      "\t\t\"NoPrefix\": false,\n",
      "\t\t\"Advanced\": false,\n",
      "\t\t\"Exclusive\": true,\n",
      "\t\t\"DefaultStr\": \"true\",\n",
      "\t\t\"ValueStr\": \"true\",\n",
      "\t\t\"Type\": \"bool\"\n",
      "\t},\n",
      "\t\"Error\": \"\",\n",
      "\t\"Result\": \"\"\n",
      "}\n"
     ]
    }
   ],
   "source": [
    "!rclone config create gcpclone \"google cloud storage\" --non-interactive"
   ]
  },
  {
   "cell_type": "code",
   "execution_count": null,
   "id": "d42a4cd2-fdc7-4d07-9153-c522229d3a5e",
   "metadata": {},
   "outputs": [],
   "source": []
  }
 ],
 "metadata": {
  "environment": {
   "kernel": "python3",
   "name": "common-cpu.m87",
   "type": "gcloud",
   "uri": "gcr.io/deeplearning-platform-release/base-cpu:m87"
  },
  "kernelspec": {
   "display_name": "Python 3",
   "language": "python",
   "name": "python3"
  },
  "language_info": {
   "codemirror_mode": {
    "name": "ipython",
    "version": 3
   },
   "file_extension": ".py",
   "mimetype": "text/x-python",
   "name": "python",
   "nbconvert_exporter": "python",
   "pygments_lexer": "ipython3",
   "version": "3.7.12"
  }
 },
 "nbformat": 4,
 "nbformat_minor": 5
}
