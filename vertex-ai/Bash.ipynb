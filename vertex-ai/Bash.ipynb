{
 "cells": [
  {
   "cell_type": "markdown",
   "id": "00ebfca6-b7a7-4d21-b799-b1bd8d51d2b7",
   "metadata": {},
   "source": [
    "# Reading GSUtil file via Bash"
   ]
  },
  {
   "cell_type": "markdown",
   "id": "2a6cea40-a0e4-4c1e-ba7f-bbb6880260c7",
   "metadata": {},
   "source": [
    "## importing one file"
   ]
  },
  {
   "cell_type": "code",
   "execution_count": 13,
   "id": "157f1ab9-99f3-43f6-b98c-753715656e94",
   "metadata": {},
   "outputs": [
    {
     "name": "stdout",
     "output_type": "stream",
     "text": [
      "mkdir: cannot create directory ‘data_bash’: File exists\n"
     ]
    }
   ],
   "source": [
    "!mkdir data_bash"
   ]
  },
  {
   "cell_type": "code",
   "execution_count": 10,
   "id": "ef80f64e-fe26-4569-86a5-225918a33895",
   "metadata": {},
   "outputs": [
    {
     "name": "stdout",
     "output_type": "stream",
     "text": [
      "Copying gs://dior_pcd_jp_istyle_data/access-log/000000000000.csv.gz...\n",
      "| [1 files][ 74.9 MiB/ 74.9 MiB]                                                \n",
      "Operation completed over 1 objects/74.9 MiB.                                     \n"
     ]
    }
   ],
   "source": [
    "!gsutil cp gs://dior_pcd_jp_istyle_data/access-log/000000000000.csv.gz ./data_bash/"
   ]
  },
  {
   "cell_type": "code",
   "execution_count": 11,
   "id": "d4aaee32-803e-477d-8dc6-5abd8d4bb10e",
   "metadata": {},
   "outputs": [],
   "source": [
    "!gzip -dk data_bash/000000000000.csv.gz"
   ]
  },
  {
   "cell_type": "code",
   "execution_count": 12,
   "id": "396020d6-9ac0-4318-a595-5f56bca7820c",
   "metadata": {},
   "outputs": [
    {
     "name": "stdout",
     "output_type": "stream",
     "text": [
      "V2v3/hbXmCr3gcWDnj9nAhdNEvHd2MZ09gsiAd/4Sceprtn2hNufrG4Ihy9aN+BU56ST/EPobak/cCfpcgGKtw==,1623985594,icA8aBIPEvFF46zyjC7AYYwuoHKW4mx5xbSWTuJourEQmQWGuordGr10X92XOasZJjAobe/63KcjJqOMHWL0yQ==,2021-06-18 12:20:29,89,2021-06-18,is-enq.cosme.net,is-enq.cosme.net/app/usr/ans/ans_smp.php?enq_id=15292&page=2,,,,,,,,,,app,sp,Referral,fae95c6ad05073f843a3f139f14d32cd.safeframe.googlesyndication.com,referral\n",
      "V2v3/hbXmCr3gcWDnj9nAhdNEvHd2MZ09gsiAd/4Sceprtn2hNufrG4Ihy9aN+BU56ST/EPobak/cCfpcgGKtw==,1623985594,icA8aBIPEvFF46zyjC7AYYwuoHKW4mx5xbSWTuJourEQmQWGuordGr10X92XOasZJjAobe/63KcjJqOMHWL0yQ==,2021-06-18 12:21:45,96,2021-06-18,is-enq.cosme.net,is-enq.cosme.net/app/usr/ans/ans_smp.php?enq_id=15289&a_key=M_7MF48p0UE.0zfR2y3.214fZmlpEy8p,,,,,,,,,,app,sp,Referral,fae95c6ad05073f843a3f139f14d32cd.safeframe.googlesyndication.com,referral\n",
      "8lkUyntgCytdEIbjcUiX35ur9KVHGLsSEcFnzmX9vUaUToytfMGeHXf4cwBYeUOgVC/FiP51LplkkoTH3PZoog==,1626612807,pB2G2nyLdhX2GMA7ndzSjQpawp03Z2z3LOMYt2xYguHtR0butv2pW1DNhoerz90sWzjpdclxIKIT2M9M3/FNXA==,2021-07-18 21:53:27,1,2021-07-18,www.cosme.net,www.cosme.net/,,,,,,,,,,\"\",sp,Referral,fb69a62b5b8d53a6f28e1a61066ebd4d.safeframe.googlesyndication.com,referral\n",
      "AwCgtxHajaWKr2aptqt3AGH8WhGjgmDqgK9E2ca7Vp71eM1XUBzM0/8RSWVmvbll4KTmQ2HLvFTIug9taExX0A==,1621389169,pVnhmw8R03309nyGslsD5cB+rk39l0w3C/qtUfaM5juQT0b2oH6KZAcqtosMVyr4d1rwg6/5g0s12t4Dvsfjyw==,2021-05-19 11:15:58,168,2021-05-19,is-enq.cosme.net,is-enq.cosme.net/app/usr/ans/ans_smp.php?enq_id=15212&page=5,,,,,,,,,,app,sp,Referral,fbf5222e7ca9a011249be1155bf771ff.safeframe.googlesyndication.com,referral\n",
      "rHuQYU1/c1N+JCE43C6fGuM/TPyCJ9ZDU9/tev67dzBGvbw/SWtcMp4nDoR6OM9xprquHyALZmfcTSALfpy9Ow==,1639829168,hdHeOxwu8Zsw7vpMJtIK2RWBujnA9aZRYoORWqbYkPc0LqamjRM/e4v5KnYOXtMPTJHWycRcgBu3cIap8urRXw==,2021-12-18 21:26:48,22,2021-12-18,www.cosme.com,www.cosme.com/clarins/?brand_id=62&category_id=3,,,,,,,,,,clarins,sp,Referral,fc54dc8d68827aca32eb1c6fba79fde5.safeframe.googlesyndication.com,referral\n",
      "J2wzEhn4gxA3YneMdBuD72rx3F5j0VORityEznFgzXtOB5HhAJFATwxseJsAVzbjtaCntUt3R7JXOinp9yntNg==,1639319685,mNVpBeUDwDpgGmHL+0nHTeAv2qD7Mo/fEXnWPhbJQ+HeVqgDcuo4788dMIQDCeDQPT9ToyFkR5udOtvYp98BCg==,2021-12-12 23:40:13,46,2021-12-12,is-enq.cosme.net,is-enq.cosme.net/app/usr/ans/ans_smp.php?enq_id=16329&page=end,,,,,,,,,,app,sp,Referral,fd18d0dcb73e5c8db674828b9d4997d1.safeframe.googlesyndication.com,referral\n",
      "af+sIPks23xRHYvS1IDEJ+XqVb2opUXjW0FItCFaOR8nexfkXnxMxhoSHI7NUv88OVQhN/MChTz1JURYHs3qgA==,1640865464,1TgRX7brhTTMpOrxyra5FsoZ9ECcQafGQC1ji52H7vZ6haX3r6IMfd7IiIkGDDjRyqGtbmrduaPZBx2uIuofvQ==,2021-12-30 20:57:44,1,2021-12-30,www.cosme.com,www.cosme.com/www.cosme.com/products/detail.php?product_id=173354&brand_id=2213,,,,,,,,,173354,www.cosme.com,sp,Referral,fdfb22f3137691b551daa61ac3e975e5.safeframe.googlesyndication.com,referral\n",
      "qtjhfSHIsOdJwtiKvcWU7KknWTGGXbBxWNcZOPFaYVK/y1dULm+zWfL0brKTqtHuD3zz3msLJRxKnbcUSMLcag==,1640133295,rtxqKfResul9E9nwl/PiwNUzZNpec8jQ0G2jccgZQcAQs2u+cGn3IkZYbMdyVWpFH3caaiD6QyeSaA/jD91I+A==,2021-12-22 09:54:45,32,2021-12-22,www.cosme.com,www.cosme.com/?rmk=1,,,,,,,,,,?rmk=1,sp,Referral,ff756748bc780019e4722119d3fa2f55.safeframe.googlesyndication.com,referral\n",
      "5k4EPoeW38phvwawM0YFq4q+5BmyNZc/XLaEAHoKCnhF+WlPzSOQWbqCfS1m90A4gIxElwt8g2MYmkj5JUOIrg==,1622696267,4Aly1MZbS5yOqLi7Dr31ORpzeqoUBPPdFPoorfNL6TEuZQGDOFkroUCa0aYvi1nEIAVUQVRFf8fuH/QciS9dkQ==,2021-06-03 14:13:52,11,2021-06-03,s.cosme.net,s.cosme.net/product/product_id/10157965/reviews/page/2,,10157965,,,,,,,,product,sp,Referral,ff8aa816b6043fdb0e76681314e170e4.safeframe.googlesyndication.com,referral\n",
      "PP4zBUb7WazvYpmNCitFne9CvGqCnLJ1dxQXQ57UPQqRDQjGR10o+FF13bX83pK1Cuyaaoj8P6gd0f0kLTMSDA==,1638537592,,2021-12-03 22:35:08,41,2021-12-03,beautyday.cosme.net,beautyday.cosme.net/,,,,,,,,,,\"\",sp,Referral,ffe437c033eae3dc0eb8fc329d27a8eb.safeframe.googlesyndication.com,referral\n"
     ]
    }
   ],
   "source": [
    "!tail data_bash/000000000000.csv"
   ]
  },
  {
   "cell_type": "markdown",
   "id": "86056a2a-5efe-4c96-9249-d61f0f49703d",
   "metadata": {},
   "source": [
    "## importing all files"
   ]
  },
  {
   "cell_type": "code",
   "execution_count": 14,
   "id": "3f0371f4-d4f2-48f0-8adf-fbbdaaf2d646",
   "metadata": {},
   "outputs": [],
   "source": [
    "!mkdir data_bash_all"
   ]
  },
  {
   "cell_type": "raw",
   "id": "f7719347-4a80-40b4-b546-8529c68f92c0",
   "metadata": {},
   "source": [
    "NOTE: You are performing a sequence of gsutil operations that may\n",
    "run significantly faster if you instead use gsutil -m cp ... Please\n",
    "see the -m section under \"gsutil help options\" for further information\n",
    "about when gsutil -m can be advantageous."
   ]
  },
  {
   "cell_type": "code",
   "execution_count": 16,
   "id": "affbedde-62c9-48d1-9de2-5a807ede3a6c",
   "metadata": {},
   "outputs": [
    {
     "name": "stdout",
     "output_type": "stream",
     "text": [
      "Copying gs://dior_pcd_jp_istyle_data/access-log/000000000003.csv.gz...\n",
      "Copying gs://dior_pcd_jp_istyle_data/access-log/000000000002.csv.gz...\n",
      "Copying gs://dior_pcd_jp_istyle_data/access-log/000000000001.csv.gz...\n",
      "Copying gs://dior_pcd_jp_istyle_data/access-log/000000000000.csv.gz...\n",
      "Copying gs://dior_pcd_jp_istyle_data/access-log/000000000004.csv.gz...\n",
      "Copying gs://dior_pcd_jp_istyle_data/access-log/000000000005.csv.gz...          \n",
      "Copying gs://dior_pcd_jp_istyle_data/access-log/000000000006.csv.gz...          \n",
      "Copying gs://dior_pcd_jp_istyle_data/access-log/000000000007.csv.gz...          \n",
      "Copying gs://dior_pcd_jp_istyle_data/access-log/000000000008.csv.gz...          \n",
      "Copying gs://dior_pcd_jp_istyle_data/access-log/000000000009.csv.gz...          \n",
      "Copying gs://dior_pcd_jp_istyle_data/access-log/000000000010.csv.gz...          \n",
      "Copying gs://dior_pcd_jp_istyle_data/access-log/000000000011.csv.gz...          \n",
      "Copying gs://dior_pcd_jp_istyle_data/access-log/000000000012.csv.gz...          \n",
      "Copying gs://dior_pcd_jp_istyle_data/access-log/000000000013.csv.gz...43        \n",
      "^C[9/5.0k files][901.4 MiB/366.0 GiB]   0% Done  99.4 MiB/s ETA 01:02:42        \n"
     ]
    }
   ],
   "source": [
    "!gsutil -m cp gs://dior_pcd_jp_istyle_data/access-log/* ./data_bash_all/"
   ]
  },
  {
   "cell_type": "code",
   "execution_count": 19,
   "id": "8bb5d173-aabc-4a34-ad0e-18aae136a4ee",
   "metadata": {},
   "outputs": [],
   "source": [
    "!gzip -dk data_bash_all/*.csv.gz"
   ]
  },
  {
   "cell_type": "code",
   "execution_count": null,
   "id": "307cbe88-5025-4b9f-8c42-317a7b2d8371",
   "metadata": {},
   "outputs": [],
   "source": []
  }
 ],
 "metadata": {
  "environment": {
   "kernel": "python3",
   "name": "common-cpu.m87",
   "type": "gcloud",
   "uri": "gcr.io/deeplearning-platform-release/base-cpu:m87"
  },
  "kernelspec": {
   "display_name": "Python 3",
   "language": "python",
   "name": "python3"
  },
  "language_info": {
   "codemirror_mode": {
    "name": "ipython",
    "version": 3
   },
   "file_extension": ".py",
   "mimetype": "text/x-python",
   "name": "python",
   "nbconvert_exporter": "python",
   "pygments_lexer": "ipython3",
   "version": "3.7.12"
  }
 },
 "nbformat": 4,
 "nbformat_minor": 5
}
