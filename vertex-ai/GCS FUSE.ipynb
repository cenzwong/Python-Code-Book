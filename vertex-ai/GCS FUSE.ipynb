{
 "cells": [
  {
   "cell_type": "markdown",
   "id": "45ce838f-f0d1-460c-bcb5-af81d57c7330",
   "metadata": {
    "tags": []
   },
   "source": [
    "# Using GCS FUSE"
   ]
  },
  {
   "cell_type": "raw",
   "id": "a2dac6b2-01a6-4088-8714-38ffb8333769",
   "metadata": {},
   "source": [
    "First, I would like to say this method is not recommended for critical or highly performant environment (small random reads). It depends on your requirement, use it with cautious."
   ]
  },
  {
   "cell_type": "code",
   "execution_count": 1,
   "id": "df92752e-bfb8-4b7b-bbd7-bc5d6b67668e",
   "metadata": {},
   "outputs": [],
   "source": [
    "!mkdir mygcsfuse"
   ]
  },
  {
   "cell_type": "code",
   "execution_count": 3,
   "id": "c078e01c-df0b-4599-9c69-d4cf094a93e1",
   "metadata": {},
   "outputs": [
    {
     "name": "stdout",
     "output_type": "stream",
     "text": [
      "2022/01/24 15:33:42.746869 Start gcsfuse/0.39.2 (Go version go1.17.5) for app \"\" using mount point: /home/jupyter/mygcsfuse\n",
      "2022/01/24 15:33:42.762069 Opening GCS connection...\n",
      "2022/01/24 15:33:42.936611 Mounting file system \"dior_pcd_jp_istyle_data\"...\n",
      "2022/01/24 15:33:42.946852 File system has been successfully mounted.\n"
     ]
    }
   ],
   "source": [
    "!gcsfuse dior_pcd_jp_istyle_data mygcsfuse"
   ]
  },
  {
   "cell_type": "code",
   "execution_count": null,
   "id": "7489d0b1-d9d0-41f3-b0fd-2670e25a2122",
   "metadata": {},
   "outputs": [],
   "source": [
    "!ls mygcsfuse"
   ]
  },
  {
   "cell_type": "code",
   "execution_count": null,
   "id": "8ecdbe6a-254d-4995-9115-0524b41b601f",
   "metadata": {},
   "outputs": [],
   "source": []
  }
 ],
 "metadata": {
  "environment": {
   "kernel": "python3",
   "name": "common-cpu.m87",
   "type": "gcloud",
   "uri": "gcr.io/deeplearning-platform-release/base-cpu:m87"
  },
  "kernelspec": {
   "display_name": "Python 3",
   "language": "python",
   "name": "python3"
  },
  "language_info": {
   "codemirror_mode": {
    "name": "ipython",
    "version": 3
   },
   "file_extension": ".py",
   "mimetype": "text/x-python",
   "name": "python",
   "nbconvert_exporter": "python",
   "pygments_lexer": "ipython3",
   "version": "3.7.12"
  }
 },
 "nbformat": 4,
 "nbformat_minor": 5
}
