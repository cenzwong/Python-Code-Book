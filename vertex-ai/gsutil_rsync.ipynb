{
 "cells": [
  {
   "cell_type": "markdown",
   "id": "18dbacec-6a6f-44d3-8dc2-3d7c1a62c393",
   "metadata": {},
   "source": [
    "# Using gsutil rsync"
   ]
  },
  {
   "cell_type": "markdown",
   "id": "00bcb095-f7a4-4a57-834e-9c176721daec",
   "metadata": {},
   "source": [
    "## Syncing the file from gs to local file"
   ]
  },
  {
   "cell_type": "code",
   "execution_count": 1,
   "id": "cbde67dd-369b-4815-9136-63d64fbd9d17",
   "metadata": {},
   "outputs": [
    {
     "name": "stdout",
     "output_type": "stream",
     "text": [
      "Building synchronization state...\n",
      "Starting synchronization...\n",
      "Copying gs://dior_pcd_jp_istyle_data/cz-test/helloworld.txt...\n",
      "/ [1 files][   12.0 B/   12.0 B]                                                \n",
      "Operation completed over 1 objects/12.0 B.                                       \n"
     ]
    }
   ],
   "source": [
    "!gsutil rsync gs://dior_pcd_jp_istyle_data/cz-test data_rsync "
   ]
  },
  {
   "cell_type": "markdown",
   "id": "a14bf7a0-e138-47e2-bdfa-7b2071b0574a",
   "metadata": {},
   "source": [
    "## Syncing the file from local to gs file"
   ]
  },
  {
   "cell_type": "code",
   "execution_count": 2,
   "id": "8bfa533d-bb3a-4ae6-a172-3897daf97c1a",
   "metadata": {},
   "outputs": [
    {
     "name": "stdout",
     "output_type": "stream",
     "text": [
      "Writing data_rsync/hello.txt\n"
     ]
    }
   ],
   "source": [
    "%%writefile data_rsync/hello.txt\n",
    "\n",
    "hiiii"
   ]
  },
  {
   "cell_type": "code",
   "execution_count": 4,
   "id": "3e5dd681-8011-4532-aa93-8dc647326495",
   "metadata": {},
   "outputs": [
    {
     "name": "stdout",
     "output_type": "stream",
     "text": [
      "Building synchronization state...\n",
      "Starting synchronization...\n",
      "Copying file://data_rsync/hello.txt [Content-Type=text/plain]...\n",
      "Copying mtime from src to dst for gs://dior_pcd_jp_istyle_data/cz-test/helloworld.txt\n",
      "\n",
      "Operation completed over 1 objects/7.0 B.                                        \n"
     ]
    }
   ],
   "source": [
    "!gsutil rsync data_rsync gs://dior_pcd_jp_istyle_data/cz-test"
   ]
  },
  {
   "cell_type": "code",
   "execution_count": null,
   "id": "8bcf9b33-a109-4d4b-93df-a087799495b1",
   "metadata": {},
   "outputs": [],
   "source": []
  }
 ],
 "metadata": {
  "environment": {
   "kernel": "python3",
   "name": "common-cpu.m87",
   "type": "gcloud",
   "uri": "gcr.io/deeplearning-platform-release/base-cpu:m87"
  },
  "kernelspec": {
   "display_name": "Python 3",
   "language": "python",
   "name": "python3"
  },
  "language_info": {
   "codemirror_mode": {
    "name": "ipython",
    "version": 3
   },
   "file_extension": ".py",
   "mimetype": "text/x-python",
   "name": "python",
   "nbconvert_exporter": "python",
   "pygments_lexer": "ipython3",
   "version": "3.7.12"
  }
 },
 "nbformat": 4,
 "nbformat_minor": 5
}
