{
  "nbformat": 4,
  "nbformat_minor": 0,
  "metadata": {
    "colab": {
      "name": "myGPU.ipynb",
      "provenance": [],
      "authorship_tag": "ABX9TyMxA+1xdG2YXUuR3ZuaInoO",
      "include_colab_link": true
    },
    "kernelspec": {
      "name": "python3",
      "display_name": "Python 3"
    },
    "language_info": {
      "name": "python"
    },
    "accelerator": "GPU"
  },
  "cells": [
    {
      "cell_type": "markdown",
      "metadata": {
        "id": "view-in-github",
        "colab_type": "text"
      },
      "source": [
        "<a href=\"https://colab.research.google.com/github/cenzwong/Python-Code-Book/blob/main/GPU/myGPU.ipynb\" target=\"_parent\"><img src=\"https://colab.research.google.com/assets/colab-badge.svg\" alt=\"Open In Colab\"/></a>"
      ]
    },
    {
      "cell_type": "markdown",
      "metadata": {
        "id": "_IU6bMZDO4Yj"
      },
      "source": [
        "# GPU Testing Environment"
      ]
    },
    {
      "cell_type": "markdown",
      "metadata": {
        "id": "_3Qxdaq-O8Mn"
      },
      "source": [
        "## Bash Level"
      ]
    },
    {
      "cell_type": "code",
      "metadata": {
        "colab": {
          "base_uri": "https://localhost:8080/"
        },
        "id": "Twb7EdV0O7vE",
        "outputId": "4b4fba57-9777-4be3-8d01-7545ba74ec74"
      },
      "source": [
        "!nvidia-smi"
      ],
      "execution_count": 1,
      "outputs": [
        {
          "output_type": "stream",
          "text": [
            "Tue Jul 20 04:59:56 2021       \n",
            "+-----------------------------------------------------------------------------+\n",
            "| NVIDIA-SMI 470.42.01    Driver Version: 460.32.03    CUDA Version: 11.2     |\n",
            "|-------------------------------+----------------------+----------------------+\n",
            "| GPU  Name        Persistence-M| Bus-Id        Disp.A | Volatile Uncorr. ECC |\n",
            "| Fan  Temp  Perf  Pwr:Usage/Cap|         Memory-Usage | GPU-Util  Compute M. |\n",
            "|                               |                      |               MIG M. |\n",
            "|===============================+======================+======================|\n",
            "|   0  Tesla T4            Off  | 00000000:00:04.0 Off |                    0 |\n",
            "| N/A   50C    P8    10W /  70W |      0MiB / 15109MiB |      0%      Default |\n",
            "|                               |                      |                  N/A |\n",
            "+-------------------------------+----------------------+----------------------+\n",
            "                                                                               \n",
            "+-----------------------------------------------------------------------------+\n",
            "| Processes:                                                                  |\n",
            "|  GPU   GI   CI        PID   Type   Process name                  GPU Memory |\n",
            "|        ID   ID                                                   Usage      |\n",
            "|=============================================================================|\n",
            "|  No running processes found                                                 |\n",
            "+-----------------------------------------------------------------------------+\n"
          ],
          "name": "stdout"
        }
      ]
    },
    {
      "cell_type": "code",
      "metadata": {
        "colab": {
          "base_uri": "https://localhost:8080/"
        },
        "id": "4VniLkhOO4MA",
        "outputId": "c06397b4-6fec-4cde-c588-1e80fec1aa2d"
      },
      "source": [
        "!nvcc --version"
      ],
      "execution_count": 2,
      "outputs": [
        {
          "output_type": "stream",
          "text": [
            "nvcc: NVIDIA (R) Cuda compiler driver\n",
            "Copyright (c) 2005-2020 NVIDIA Corporation\n",
            "Built on Wed_Jul_22_19:09:09_PDT_2020\n",
            "Cuda compilation tools, release 11.0, V11.0.221\n",
            "Build cuda_11.0_bu.TC445_37.28845127_0\n"
          ],
          "name": "stdout"
        }
      ]
    },
    {
      "cell_type": "code",
      "metadata": {
        "colab": {
          "base_uri": "https://localhost:8080/"
        },
        "id": "KB1PgFHNOs_P",
        "outputId": "ccca86b8-a46a-4488-f25e-6319d42f5e91"
      },
      "source": [
        "!DEBIAN_FRONTEND=noninteractive apt-get install -qq pciutils < /dev/null > /dev/null\n",
        "!update-pciids\n",
        "!lspci | grep -i nvidia"
      ],
      "execution_count": 3,
      "outputs": [
        {
          "output_type": "stream",
          "text": [
            "Downloaded daily snapshot dated 2021-07-20 03:15:02\n",
            "00:04.0 3D controller: NVIDIA Corporation TU104GL [Tesla T4] (rev a1)\n"
          ],
          "name": "stdout"
        }
      ]
    },
    {
      "cell_type": "code",
      "metadata": {
        "colab": {
          "base_uri": "https://localhost:8080/"
        },
        "id": "maHPGZ8KSlu2",
        "outputId": "445645a7-98f7-4d13-f167-be77e425005e"
      },
      "source": [
        "!ls -l /usr/local | grep cuda"
      ],
      "execution_count": 5,
      "outputs": [
        {
          "output_type": "stream",
          "text": [
            "lrwxrwxrwx  1 root root    9 Jul 15 13:32 cuda -> cuda-11.0\n",
            "drwxr-xr-x 16 root root 4096 Jul 15 13:26 cuda-10.0\n",
            "drwxr-xr-x 15 root root 4096 Jul 15 13:28 cuda-10.1\n",
            "drwxr-xr-x  1 root root 4096 Jul 15 13:30 cuda-11.0\n"
          ],
          "name": "stdout"
        }
      ]
    },
    {
      "cell_type": "code",
      "metadata": {
        "colab": {
          "base_uri": "https://localhost:8080/"
        },
        "id": "n0aGEGpOSwIH",
        "outputId": "a258d3fa-5637-4b1c-8c8c-5961d37ed9ab"
      },
      "source": [
        "!cat /usr/local/cuda/version.txt"
      ],
      "execution_count": 8,
      "outputs": [
        {
          "output_type": "stream",
          "text": [
            "CUDA Version 11.0.228\n"
          ],
          "name": "stdout"
        }
      ]
    },
    {
      "cell_type": "markdown",
      "metadata": {
        "id": "Q7aG12RHS6V-"
      },
      "source": [
        "## pyTorch"
      ]
    },
    {
      "cell_type": "code",
      "metadata": {
        "colab": {
          "base_uri": "https://localhost:8080/"
        },
        "id": "FYR5hLA7S6K4",
        "outputId": "42303d85-69b2-4c19-9927-526619990891"
      },
      "source": [
        "import torch\n",
        "print(\"torch.version.cuda: \", torch.version.cuda)"
      ],
      "execution_count": 12,
      "outputs": [
        {
          "output_type": "stream",
          "text": [
            "torch.version.cuda:  10.2\n"
          ],
          "name": "stdout"
        }
      ]
    },
    {
      "cell_type": "markdown",
      "metadata": {
        "id": "ZWPFPwa_TMO1"
      },
      "source": [
        "## Tensorflow"
      ]
    },
    {
      "cell_type": "code",
      "metadata": {
        "colab": {
          "base_uri": "https://localhost:8080/",
          "height": 35
        },
        "id": "8uueAVM-Y46D",
        "outputId": "5d620c8a-6cca-4a66-fe2b-49f33c2ca6b8"
      },
      "source": [
        "import tensorflow as tf\n",
        "tf.__version__"
      ],
      "execution_count": 23,
      "outputs": [
        {
          "output_type": "execute_result",
          "data": {
            "application/vnd.google.colaboratory.intrinsic+json": {
              "type": "string"
            },
            "text/plain": [
              "'2.5.0'"
            ]
          },
          "metadata": {
            "tags": []
          },
          "execution_count": 23
        }
      ]
    },
    {
      "cell_type": "code",
      "metadata": {
        "colab": {
          "base_uri": "https://localhost:8080/"
        },
        "id": "lKSdrDSVSudX",
        "outputId": "9cfaff83-4d2e-45b6-d55a-33a0d357e7a7"
      },
      "source": [
        "print(\"list_physical_devices: \", tf.config.list_physical_devices())\n",
        "print(\"list_physical_GPU: \", tf.config.list_physical_devices('GPU'))\n",
        "print(\"list_logical_dev:\", tf.config.experimental.list_logical_devices())\n",
        "print(\"list_logical_gpu:\", tf.config.experimental.list_logical_devices('GPU'))\n",
        "print(\"tf.config.get_visible_devices: \", tf.config.get_visible_devices())"
      ],
      "execution_count": 24,
      "outputs": [
        {
          "output_type": "stream",
          "text": [
            "list_physical_devices:  [PhysicalDevice(name='/physical_device:CPU:0', device_type='CPU'), PhysicalDevice(name='/physical_device:GPU:0', device_type='GPU')]\n",
            "list_physical_GPU:  [PhysicalDevice(name='/physical_device:GPU:0', device_type='GPU')]\n",
            "list_logical_dev: [LogicalDevice(name='/device:CPU:0', device_type='CPU'), LogicalDevice(name='/device:GPU:0', device_type='GPU')]\n",
            "list_logical_gpu: [LogicalDevice(name='/device:GPU:0', device_type='GPU')]\n",
            "tf.config.get_visible_devices:  [PhysicalDevice(name='/physical_device:CPU:0', device_type='CPU'), PhysicalDevice(name='/physical_device:GPU:0', device_type='GPU')]\n"
          ],
          "name": "stdout"
        }
      ]
    },
    {
      "cell_type": "code",
      "metadata": {
        "colab": {
          "base_uri": "https://localhost:8080/"
        },
        "id": "D47brN5yXevL",
        "outputId": "1945d588-41cf-4fb6-db2a-b60a71ef0ebe"
      },
      "source": [
        "print(\"tf.test.is_built_with_cuda: \", tf.test.is_built_with_cuda())\n",
        "print(\"tf.test.is_built_with_gpu_support: \", tf.test.is_built_with_gpu_support())"
      ],
      "execution_count": 21,
      "outputs": [
        {
          "output_type": "stream",
          "text": [
            "tf.test.is_built_with_cuda:  True\n",
            "tf.test.is_built_with_gpu_support:  True\n"
          ],
          "name": "stdout"
        }
      ]
    },
    {
      "cell_type": "code",
      "metadata": {
        "colab": {
          "base_uri": "https://localhost:8080/",
          "height": 35
        },
        "id": "fJz62J8PYeoI",
        "outputId": "f3c45e75-0fa4-4a80-f68b-ff9b15c00ee9"
      },
      "source": [
        "tf.sysconfig.get_lib()"
      ],
      "execution_count": 25,
      "outputs": [
        {
          "output_type": "execute_result",
          "data": {
            "application/vnd.google.colaboratory.intrinsic+json": {
              "type": "string"
            },
            "text/plain": [
              "'/usr/local/lib/python3.7/dist-packages/tensorflow'"
            ]
          },
          "metadata": {
            "tags": []
          },
          "execution_count": 25
        }
      ]
    },
    {
      "cell_type": "code",
      "metadata": {
        "id": "JKbQZWJ-ZnNR"
      },
      "source": [
        ""
      ],
      "execution_count": null,
      "outputs": []
    }
  ]
}