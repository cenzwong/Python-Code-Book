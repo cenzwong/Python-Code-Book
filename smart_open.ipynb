{
 "cells": [
  {
   "cell_type": "markdown",
   "id": "20b1ebb0-6544-462a-9973-dcb02dff6e93",
   "metadata": {},
   "source": [
    "# Opening files with Smart Open"
   ]
  },
  {
   "cell_type": "raw",
   "id": "ebe31a84-d6be-4c7d-b09a-7c37525cb3c9",
   "metadata": {},
   "source": [
    "https://pypi.org/project/smart-open/"
   ]
  },
  {
   "cell_type": "code",
   "execution_count": 1,
   "id": "602a6909-b0d5-409f-8d88-9d0f65056702",
   "metadata": {},
   "outputs": [
    {
     "name": "stdout",
     "output_type": "stream",
     "text": [
      "Collecting smart_open[all]\n",
      "  Downloading smart_open-5.2.1-py3-none-any.whl (58 kB)\n",
      "     |████████████████████████████████| 58 kB 7.3 MB/s             \n",
      "\u001b[?25hRequirement already satisfied: google-cloud-storage in /opt/conda/lib/python3.7/site-packages (from smart_open[all]) (1.43.0)\n",
      "Collecting azure-storage-blob\n",
      "  Downloading azure_storage_blob-12.9.0-py2.py3-none-any.whl (356 kB)\n",
      "     |████████████████████████████████| 356 kB 41.7 MB/s            \n",
      "\u001b[?25hRequirement already satisfied: requests in /opt/conda/lib/python3.7/site-packages (from smart_open[all]) (2.26.0)\n",
      "Collecting azure-common\n",
      "  Downloading azure_common-1.1.27-py2.py3-none-any.whl (12 kB)\n",
      "Collecting boto3\n",
      "  Downloading boto3-1.20.41-py3-none-any.whl (131 kB)\n",
      "     |████████████████████████████████| 131 kB 47.1 MB/s            \n",
      "\u001b[?25hCollecting azure-core\n",
      "  Downloading azure_core-1.21.1-py2.py3-none-any.whl (178 kB)\n",
      "     |████████████████████████████████| 178 kB 46.7 MB/s            \n",
      "\u001b[?25hRequirement already satisfied: six>=1.11.0 in /opt/conda/lib/python3.7/site-packages (from azure-core->smart_open[all]) (1.16.0)\n",
      "Requirement already satisfied: charset-normalizer~=2.0.0 in /opt/conda/lib/python3.7/site-packages (from requests->smart_open[all]) (2.0.9)\n",
      "Requirement already satisfied: idna<4,>=2.5 in /opt/conda/lib/python3.7/site-packages (from requests->smart_open[all]) (3.1)\n",
      "Requirement already satisfied: certifi>=2017.4.17 in /opt/conda/lib/python3.7/site-packages (from requests->smart_open[all]) (2021.10.8)\n",
      "Requirement already satisfied: urllib3<1.27,>=1.21.1 in /opt/conda/lib/python3.7/site-packages (from requests->smart_open[all]) (1.26.7)\n",
      "Collecting msrest>=0.6.21\n",
      "  Downloading msrest-0.6.21-py2.py3-none-any.whl (85 kB)\n",
      "     |████████████████████████████████| 85 kB 5.9 MB/s             \n",
      "\u001b[?25hRequirement already satisfied: cryptography>=2.1.4 in /opt/conda/lib/python3.7/site-packages (from azure-storage-blob->smart_open[all]) (36.0.1)\n",
      "Collecting s3transfer<0.6.0,>=0.5.0\n",
      "  Downloading s3transfer-0.5.0-py3-none-any.whl (79 kB)\n",
      "     |████████████████████████████████| 79 kB 9.8 MB/s             \n",
      "\u001b[?25hCollecting botocore<1.24.0,>=1.23.41\n",
      "  Downloading botocore-1.23.41-py3-none-any.whl (8.5 MB)\n",
      "     |████████████████████████████████| 8.5 MB 38.0 MB/s            \n",
      "\u001b[?25hCollecting jmespath<1.0.0,>=0.7.1\n",
      "  Downloading jmespath-0.10.0-py2.py3-none-any.whl (24 kB)\n",
      "Requirement already satisfied: google-resumable-media<3.0dev,>=1.3.0 in /opt/conda/lib/python3.7/site-packages (from google-cloud-storage->smart_open[all]) (2.1.0)\n",
      "Requirement already satisfied: google-cloud-core<3.0dev,>=1.6.0 in /opt/conda/lib/python3.7/site-packages (from google-cloud-storage->smart_open[all]) (2.2.1)\n",
      "Requirement already satisfied: google-auth<3.0dev,>=1.25.0 in /opt/conda/lib/python3.7/site-packages (from google-cloud-storage->smart_open[all]) (2.3.3)\n",
      "Requirement already satisfied: google-api-core<3.0dev,>=1.29.0 in /opt/conda/lib/python3.7/site-packages (from google-cloud-storage->smart_open[all]) (2.3.2)\n",
      "Requirement already satisfied: protobuf in /opt/conda/lib/python3.7/site-packages (from google-cloud-storage->smart_open[all]) (3.19.1)\n",
      "Requirement already satisfied: python-dateutil<3.0.0,>=2.1 in /opt/conda/lib/python3.7/site-packages (from botocore<1.24.0,>=1.23.41->boto3->smart_open[all]) (2.8.2)\n",
      "Requirement already satisfied: cffi>=1.12 in /opt/conda/lib/python3.7/site-packages (from cryptography>=2.1.4->azure-storage-blob->smart_open[all]) (1.15.0)\n",
      "Requirement already satisfied: googleapis-common-protos<2.0dev,>=1.52.0 in /opt/conda/lib/python3.7/site-packages (from google-api-core<3.0dev,>=1.29.0->google-cloud-storage->smart_open[all]) (1.53.0)\n",
      "Requirement already satisfied: setuptools>=40.3.0 in /opt/conda/lib/python3.7/site-packages (from google-api-core<3.0dev,>=1.29.0->google-cloud-storage->smart_open[all]) (59.6.0)\n",
      "Requirement already satisfied: rsa<5,>=3.1.4 in /opt/conda/lib/python3.7/site-packages (from google-auth<3.0dev,>=1.25.0->google-cloud-storage->smart_open[all]) (4.8)\n",
      "Requirement already satisfied: cachetools<5.0,>=2.0.0 in /opt/conda/lib/python3.7/site-packages (from google-auth<3.0dev,>=1.25.0->google-cloud-storage->smart_open[all]) (4.2.4)\n",
      "Requirement already satisfied: pyasn1-modules>=0.2.1 in /opt/conda/lib/python3.7/site-packages (from google-auth<3.0dev,>=1.25.0->google-cloud-storage->smart_open[all]) (0.2.7)\n",
      "Requirement already satisfied: google-crc32c<2.0dev,>=1.0 in /opt/conda/lib/python3.7/site-packages (from google-resumable-media<3.0dev,>=1.3.0->google-cloud-storage->smart_open[all]) (1.1.2)\n",
      "Collecting isodate>=0.6.0\n",
      "  Downloading isodate-0.6.1-py2.py3-none-any.whl (41 kB)\n",
      "     |████████████████████████████████| 41 kB 979 kB/s             \n",
      "\u001b[?25hRequirement already satisfied: requests-oauthlib>=0.5.0 in /opt/conda/lib/python3.7/site-packages (from msrest>=0.6.21->azure-storage-blob->smart_open[all]) (1.3.0)\n",
      "Requirement already satisfied: pycparser in /opt/conda/lib/python3.7/site-packages (from cffi>=1.12->cryptography>=2.1.4->azure-storage-blob->smart_open[all]) (2.21)\n",
      "Requirement already satisfied: pyasn1<0.5.0,>=0.4.6 in /opt/conda/lib/python3.7/site-packages (from pyasn1-modules>=0.2.1->google-auth<3.0dev,>=1.25.0->google-cloud-storage->smart_open[all]) (0.4.8)\n",
      "Requirement already satisfied: oauthlib>=3.0.0 in /opt/conda/lib/python3.7/site-packages (from requests-oauthlib>=0.5.0->msrest>=0.6.21->azure-storage-blob->smart_open[all]) (3.1.1)\n",
      "Installing collected packages: jmespath, isodate, botocore, s3transfer, msrest, azure-core, smart-open, boto3, azure-storage-blob, azure-common\n",
      "Successfully installed azure-common-1.1.27 azure-core-1.21.1 azure-storage-blob-12.9.0 boto3-1.20.41 botocore-1.23.41 isodate-0.6.1 jmespath-0.10.0 msrest-0.6.21 s3transfer-0.5.0 smart-open-5.2.1\n"
     ]
    }
   ],
   "source": [
    "!pip install smart_open[all]\n",
    "# pip install smart_open[azure] # Install Azure deps\n",
    "# pip install smart_open[gcs] # Install GCS deps\n",
    "# pip install smart_open[s3] # Install S3 deps"
   ]
  },
  {
   "cell_type": "code",
   "execution_count": 3,
   "id": "edf1467a-2d7b-4d0f-81d0-51f20f843180",
   "metadata": {},
   "outputs": [],
   "source": [
    "from smart_open import open, register_compressor\n",
    "\n",
    "import pandas as pd\n",
    "\n",
    "with open('gs://dior_pcd_jp_istyle_data/access-log/000000000000.csv.gz') as fin:\n",
    "    mycsv = fin.readlines()"
   ]
  },
  {
   "cell_type": "code",
   "execution_count": null,
   "id": "b3be6029-f0cf-44b6-abc0-786ac82e973c",
   "metadata": {},
   "outputs": [],
   "source": [
    "mycsv[:3]"
   ]
  },
  {
   "cell_type": "code",
   "execution_count": null,
   "id": "218b0d3b-2071-4d85-b72b-85985fb0ed9b",
   "metadata": {},
   "outputs": [],
   "source": [
    "pd.read_csv(open('gs://dior_pcd_jp_istyle_data/access-log/000000000000.csv.gz','r'))"
   ]
  },
  {
   "cell_type": "code",
   "execution_count": null,
   "id": "90b54bf8-1069-4126-8872-3540f63d1b85",
   "metadata": {},
   "outputs": [],
   "source": []
  }
 ],
 "metadata": {
  "environment": {
   "kernel": "python3",
   "name": "common-cpu.m87",
   "type": "gcloud",
   "uri": "gcr.io/deeplearning-platform-release/base-cpu:m87"
  },
  "kernelspec": {
   "display_name": "Python 3",
   "language": "python",
   "name": "python3"
  },
  "language_info": {
   "codemirror_mode": {
    "name": "ipython",
    "version": 3
   },
   "file_extension": ".py",
   "mimetype": "text/x-python",
   "name": "python",
   "nbconvert_exporter": "python",
   "pygments_lexer": "ipython3",
   "version": "3.7.12"
  }
 },
 "nbformat": 4,
 "nbformat_minor": 5
}
